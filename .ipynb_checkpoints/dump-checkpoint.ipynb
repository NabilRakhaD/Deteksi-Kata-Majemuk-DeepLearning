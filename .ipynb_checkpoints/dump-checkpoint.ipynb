{
 "cells": [
  {
   "cell_type": "code",
   "execution_count": 11,
   "id": "3857a365",
   "metadata": {},
   "outputs": [
    {
     "name": "stdout",
     "output_type": "stream",
     "text": [
      "Updated sentence: aku sedang berada di rumah sakit\n"
     ]
    }
   ],
   "source": [
    "sentence = 'aku sdang berada di rmah sakit'\n",
    "replacement_list = [['sdang', 'sedang'], ['rmah', 'rumah']]\n",
    "\n",
    "# Iterate through the replacement pairs and update the sentence\n",
    "for replacement_pair in replacement_list:\n",
    "    original_word, replacement_word = replacement_pair\n",
    "    sentence = sentence.replace(original_word, replacement_word)\n",
    "\n",
    "# Print the updated sentence\n",
    "print(\"Updated sentence:\", sentence)\n"
   ]
  },
  {
   "cell_type": "code",
   "execution_count": 8,
   "id": "9c9fcbbc",
   "metadata": {},
   "outputs": [
    {
     "data": {
      "text/plain": [
       "'mata hari'"
      ]
     },
     "execution_count": 8,
     "metadata": {},
     "output_type": "execute_result"
    }
   ],
   "source": [
    "result[0]"
   ]
  }
 ],
 "metadata": {
  "kernelspec": {
   "display_name": "Python 3 (ipykernel)",
   "language": "python",
   "name": "python3"
  },
  "language_info": {
   "codemirror_mode": {
    "name": "ipython",
    "version": 3
   },
   "file_extension": ".py",
   "mimetype": "text/x-python",
   "name": "python",
   "nbconvert_exporter": "python",
   "pygments_lexer": "ipython3",
   "version": "3.9.13"
  }
 },
 "nbformat": 4,
 "nbformat_minor": 5
}
